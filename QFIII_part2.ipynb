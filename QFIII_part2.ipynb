{
 "cells": [
  {
   "cell_type": "markdown",
   "id": "9fc57a70-4269-4db8-843f-a54a8cdada68",
   "metadata": {},
   "source": [
    "# PART2 QFIII: different systems: box, ho, H-like atoms, Variational principle and Lin.Var.Method"
   ]
  },
  {
   "cell_type": "code",
   "execution_count": 1,
   "id": "ff23c38e-a769-4441-a2f0-ac04cb8e9015",
   "metadata": {
    "tags": []
   },
   "outputs": [],
   "source": [
    "import numpy as np\n",
    "import sympy as smp\n",
    "import matplotlib.pyplot as plt"
   ]
  },
  {
   "cell_type": "markdown",
   "id": "71c83c6a-356d-423a-a900-fcb8bb750418",
   "metadata": {
    "tags": []
   },
   "source": [
    "##### **1.18** Schrodinger eq. of en e- in a 1D potential $\\delta_{\\epsilon}(x)$ in u.a. is \n",
    "$$ \\left( -\\frac{1}{2}\\frac{d^2}{dx^2} -\\delta_{\\epsilon}(x)\\right) |\\Phi> = \\mathcal{E} |\\Phi> $$\n",
    "Use Variation method with trial function $ |\\tilde \\Phi(x)> = |\\tilde \\Phi> = N \\mathrm{e}^{-\\alpha x^2} $ to show that $ \\mathcal{E}_0 = -\\frac{1}{\\pi}$ is upper bound to GS energy $ \\mathcal{E}_{exact} = -1/2$ ha  \n",
    "Tip: $ \\int_{-\\infty}^{\\infty} \\delta_{\\epsilon}(x) dx = 1; \\forall \\epsilon$"
   ]
  },
  {
   "cell_type": "markdown",
   "id": "6f8028af-0cb1-47b8-a880-805aae837450",
   "metadata": {
    "tags": []
   },
   "source": [
    "## Harmonic oscillator (ho)\n",
    "$$ \\hat H^{oh}_{1D}=\\left( -\\frac{\\hbar^2}{2m}\\frac{d^2}{dx^2} + \\frac{1}{2} k x^2  \\right) | \\tilde \\phi> = \\mathcal{E}^{oh}_v |\\tilde \\phi> $$\n",
    "$$ \\mathrm{E}_{v} = h\\nu(1/2 + v) \\rightarrow \\nu= \\frac{1}{2\\pi} \\sqrt{\\frac{k}{m}}$$ \n",
    "$$ \\phi_0(x) = (\\alpha/\\pi)^{1/4} e^{-\\alpha x^2/2} $$\n",
    "$$ \\phi_1(x) = (4\\alpha^3/\\pi)^{1/4} x e^{-\\alpha x^2/2} $$"
   ]
  },
  {
   "cell_type": "markdown",
   "id": "b4554e22-f313-4d16-99b3-e225c153e36b",
   "metadata": {
    "jp-MarkdownHeadingCollapsed": true,
    "tags": []
   },
   "source": [
    "### __2.6__ (_3.7 P&A_)\n",
    "3D h.o., the potential energy for a particle is $V(x,y,z)= (1/2) k_x x^2 + (1/2) k_y y^2 + (1/2) k_z z^2 $\n",
    "1) Determine $\\mathrm{E}_0 ,\\mathrm{E}_1$ and degeneracies for an isotrop h.o.( $ k_x= k_y =k_z $ )\n",
    "2) Determine $\\mathrm{\\Psi}_0 ,\\mathrm{\\Psi}_1$, eigenfunctions for the GS ans 1 ExcState"
   ]
  },
  {
   "cell_type": "markdown",
   "id": "f49d0270-e729-4d2c-a35c-24a0da4c8cf7",
   "metadata": {
    "tags": []
   },
   "source": [
    "##### Sol. 1)"
   ]
  },
  {
   "cell_type": "code",
   "execution_count": 2,
   "id": "5139526c-86e0-4763-b790-87c60dbb436e",
   "metadata": {
    "tags": []
   },
   "outputs": [
    {
     "name": "stdout",
     "output_type": "stream",
     "text": [
      "V isotrop is:  V=\n"
     ]
    },
    {
     "data": {
      "text/latex": [
       "$\\displaystyle \\frac{k \\left(x^{2} + y^{2} + z^{2}\\right)}{2}$"
      ],
      "text/plain": [
       "k*(x**2 + y**2 + z**2)/2"
      ]
     },
     "metadata": {},
     "output_type": "display_data"
    }
   ],
   "source": [
    "x, y, z, k, E0, E1, v, nu, h, a= smp.symbols(' x y z k E_0 E_1 v\\nu h \\alpha')\n",
    "V, Ev , psi = smp.symbols('V Ev psi', cls=smp.Function)\n",
    "V= V(x, y, z)\n",
    "Ev = Ev(v)\n",
    "V = smp.Rational(1,2)*k*x**2 + smp.Rational(1,2)*k*y**2 + smp.Rational(1,2)*k*z**2\n",
    "print('V isotrop is:  V=')\n",
    "display(V.simplify())"
   ]
  },
  {
   "cell_type": "code",
   "execution_count": 3,
   "id": "f83d9b5d-f6e6-47db-adc7-4a2e779fbbdd",
   "metadata": {
    "tags": []
   },
   "outputs": [
    {
     "data": {
      "text/latex": [
       "$\\displaystyle H^{3d}$"
      ],
      "text/plain": [
       "H^{3d}"
      ]
     },
     "metadata": {},
     "output_type": "display_data"
    },
    {
     "data": {
      "text/plain": [
       "'='"
      ]
     },
     "metadata": {},
     "output_type": "display_data"
    },
    {
     "data": {
      "text/latex": [
       "$\\displaystyle \\sum_{i=1}^{3} H^{1d}$"
      ],
      "text/plain": [
       "Sum(H^{1d}, (i, 1, 3))"
      ]
     },
     "metadata": {},
     "output_type": "display_data"
    },
    {
     "data": {
      "text/plain": [
       "'='"
      ]
     },
     "metadata": {},
     "output_type": "display_data"
    },
    {
     "data": {
      "text/latex": [
       "$\\displaystyle \\sum_{i=1}^{3} \\left(T^{1d} + V^{1d}\\right)$"
      ],
      "text/plain": [
       "Sum(T^{1d} + V^{1d}, (i, 1, 3))"
      ]
     },
     "metadata": {},
     "output_type": "display_data"
    },
    {
     "data": {
      "text/plain": [
       "'='"
      ]
     },
     "metadata": {},
     "output_type": "display_data"
    },
    {
     "data": {
      "text/latex": [
       "$\\displaystyle \\sum_{i=1}^{3} h \\nu \\left(v_{i} + 0.5\\right)$"
      ],
      "text/plain": [
       "Sum(h*nu*(v_i + 0.5), (i, 1, 3))"
      ]
     },
     "metadata": {},
     "output_type": "display_data"
    },
    {
     "data": {
      "text/plain": [
       "'for i=x,y,z'"
      ]
     },
     "metadata": {},
     "output_type": "display_data"
    },
    {
     "data": {
      "text/latex": [
       "$\\displaystyle h \\nu \\left(v_{x} + 0.5\\right) + h \\nu \\left(v_{y} + 0.5\\right) + h \\nu \\left(v_{z} + 0.5\\right)$"
      ],
      "text/plain": [
       "h*nu*(v_x + 0.5) + h*nu*(v_y + 0.5) + h*nu*(v_z + 0.5)"
      ]
     },
     "metadata": {},
     "output_type": "display_data"
    },
    {
     "name": "stdout",
     "output_type": "stream",
     "text": [
      "\n",
      "For the GS with vx=vy=vz=0\n"
     ]
    },
    {
     "data": {
      "text/plain": [
       "'For the GS: deg=1 since only 1 possible state from combination of vx=vy=vz=0 '"
      ]
     },
     "metadata": {},
     "output_type": "display_data"
    },
    {
     "data": {
      "text/latex": [
       "$\\displaystyle 1.5 h \\nu$"
      ],
      "text/plain": [
       "1.5*h*nu"
      ]
     },
     "metadata": {},
     "output_type": "display_data"
    },
    {
     "name": "stdout",
     "output_type": "stream",
     "text": [
      "\n"
     ]
    },
    {
     "data": {
      "text/plain": [
       "'For the ES: deg=3 since 3 possible state from combination of 1 v=1 and 2 v=0 states:'"
      ]
     },
     "metadata": {},
     "output_type": "display_data"
    },
    {
     "data": {
      "text/plain": [
       "' E_100 =  '"
      ]
     },
     "metadata": {},
     "output_type": "display_data"
    },
    {
     "data": {
      "text/latex": [
       "$\\displaystyle 2.5 h \\nu$"
      ],
      "text/plain": [
       "2.5*h*nu"
      ]
     },
     "metadata": {},
     "output_type": "display_data"
    },
    {
     "data": {
      "text/plain": [
       "' E010 =  '"
      ]
     },
     "metadata": {},
     "output_type": "display_data"
    },
    {
     "data": {
      "text/latex": [
       "$\\displaystyle 2.5 h \\nu$"
      ],
      "text/plain": [
       "2.5*h*nu"
      ]
     },
     "metadata": {},
     "output_type": "display_data"
    },
    {
     "data": {
      "text/plain": [
       "' E_001 =  '"
      ]
     },
     "metadata": {},
     "output_type": "display_data"
    },
    {
     "data": {
      "text/latex": [
       "$\\displaystyle 2.5 h \\nu$"
      ],
      "text/plain": [
       "2.5*h*nu"
      ]
     },
     "metadata": {},
     "output_type": "display_data"
    }
   ],
   "source": [
    "H1d, H3d, T1d, T3d, V1d, V3d = smp.symbols('H^{1d} H^{3d} T^{1d} T^{3d} V^{1d} V^{3d}')\n",
    "psi0, psi100, psi010, psi001 = smp.symbols('\\Psi_{000} \\Psi_{100} \\Psi_{010} \\Psi_{001}')\n",
    "i = smp.symbols('i', integer=True)\n",
    "h, nu, v, v_i, v_x, v_y, v_z = smp.symbols('h nu v v_i v_x v_y v_z')\n",
    "\n",
    "Ev = h * nu * (1/2 + v)\n",
    "Ev_i = h * nu * (1/2 + v_i)\n",
    " \n",
    "display(H3d,'=',smp.Sum(H1d, (i, 1, 3)), '=', smp.Sum(T1d + V1d, (i, 1, 3)), '=', smp.Sum(Ev_i, (i, 1, 3)), 'for i=x,y,z')\n",
    "display(Ev_i.subs(v_i, v_x) + Ev_i.subs(v_i, v_y)+Ev_i.subs(v_i, v_z),)\n",
    "print('')\n",
    "print('For the GS with vx=vy=vz=0')\n",
    "display('For the GS: deg=1 since only 1 possible state from combination of vx=vy=vz=0 ', Ev_i.subs(v_i, 0) + Ev_i.subs(v_i, 0)+Ev_i.subs(v_i, 0))\n",
    "print('')\n",
    "display('For the ES: deg=3 since 3 possible state from combination of 1 v=1 and 2 v=0 states:')\n",
    "display(' E_100 =  ', Ev_i.subs(v_i, 1) + Ev_i.subs(v_i, 0)+Ev_i.subs(v_i, 0))\n",
    "display(' E010 =  ', Ev_i.subs(v_i, 0) + Ev_i.subs(v_i, 1)+Ev_i.subs(v_i, 0))\n",
    "display(' E_001 =  ', Ev_i.subs(v_i, 0) + Ev_i.subs(v_i, 0)+Ev_i.subs(v_i, 1))"
   ]
  },
  {
   "cell_type": "markdown",
   "id": "6d65b2d1-8d68-46c1-8a0a-3e2fed54669c",
   "metadata": {
    "jp-MarkdownHeadingCollapsed": true,
    "tags": []
   },
   "source": [
    "##### Sol. 2)"
   ]
  },
  {
   "cell_type": "code",
   "execution_count": 4,
   "id": "3d281a87-1a3e-4d40-9eb8-12a003a5091a",
   "metadata": {
    "tags": []
   },
   "outputs": [
    {
     "data": {
      "text/plain": [
       "'For the GS: Psi_000 = '"
      ]
     },
     "metadata": {},
     "output_type": "display_data"
    },
    {
     "data": {
      "text/latex": [
       "$\\displaystyle \\frac{\\alpha^{\\frac{3}{4}} e^{- \\frac{\\alpha \\left(x^{2} + y^{2} + z^{2}\\right)}{2}}}{\\pi^{\\frac{3}{4}}}$"
      ],
      "text/plain": [
       "alpha**(3/4)*exp(-alpha*(x**2 + y**2 + z**2)/2)/pi**(3/4)"
      ]
     },
     "metadata": {},
     "output_type": "display_data"
    },
    {
     "data": {
      "text/plain": [
       "'For the ES: Psi_100 = '"
      ]
     },
     "metadata": {},
     "output_type": "display_data"
    },
    {
     "data": {
      "text/latex": [
       "$\\displaystyle \\frac{\\sqrt{2} \\sqrt{\\alpha} x \\sqrt[4]{\\alpha^{3}} e^{- \\frac{\\alpha \\left(x^{2} + y^{2} + z^{2}\\right)}{2}}}{\\pi^{\\frac{3}{4}}}$"
      ],
      "text/plain": [
       "sqrt(2)*sqrt(alpha)*x*(alpha**3)**(1/4)*exp(-alpha*(x**2 + y**2 + z**2)/2)/pi**(3/4)"
      ]
     },
     "metadata": {},
     "output_type": "display_data"
    },
    {
     "data": {
      "text/plain": [
       "'For the ES: Psi_010 = '"
      ]
     },
     "metadata": {},
     "output_type": "display_data"
    },
    {
     "data": {
      "text/latex": [
       "$\\displaystyle \\frac{\\sqrt{2} \\sqrt{\\alpha} y \\sqrt[4]{\\alpha^{3}} e^{- \\frac{\\alpha \\left(x^{2} + y^{2} + z^{2}\\right)}{2}}}{\\pi^{\\frac{3}{4}}}$"
      ],
      "text/plain": [
       "sqrt(2)*sqrt(alpha)*y*(alpha**3)**(1/4)*exp(-alpha*(x**2 + y**2 + z**2)/2)/pi**(3/4)"
      ]
     },
     "metadata": {},
     "output_type": "display_data"
    },
    {
     "data": {
      "text/plain": [
       "'For the ES: Psi_001 = '"
      ]
     },
     "metadata": {},
     "output_type": "display_data"
    },
    {
     "data": {
      "text/latex": [
       "$\\displaystyle \\frac{\\sqrt{2} \\sqrt{\\alpha} z \\sqrt[4]{\\alpha^{3}} e^{- \\frac{\\alpha \\left(x^{2} + y^{2} + z^{2}\\right)}{2}}}{\\pi^{\\frac{3}{4}}}$"
      ],
      "text/plain": [
       "sqrt(2)*sqrt(alpha)*z*(alpha**3)**(1/4)*exp(-alpha*(x**2 + y**2 + z**2)/2)/pi**(3/4)"
      ]
     },
     "metadata": {},
     "output_type": "display_data"
    }
   ],
   "source": [
    "a = smp.symbols('alpha', Real=True)  \n",
    "i = smp.symbols('i', Real=True)\n",
    "\n",
    "psi_0i = (a / smp.pi)**(smp.Rational(1, 4)) * smp.exp(-a * i**2 / 2)\n",
    "psi_000 = psi_0i.subs(i, x) * psi_0i.subs(i, y) * psi_0i.subs(i, z)\n",
    "display('For the GS: Psi_000 = ', psi_000.simplify())\n",
    "\n",
    "psi_1i = (4*a**3 / smp.pi)**(smp.Rational(1, 4))*i * smp.exp(-a * i**2 / 2)\n",
    "psi_100 = psi_1i.subs(i,x)*psi_0i.subs(i, y) * psi_0i.subs(i, z)\n",
    "psi_010 = psi_0i.subs(i,x)*psi_1i.subs(i, y) * psi_0i.subs(i, z)\n",
    "psi_001 = psi_0i.subs(i,x)*psi_0i.subs(i, y) * psi_1i.subs(i, z)\n",
    "display('For the ES: Psi_100 = ', psi_100.simplify().doit())\n",
    "display('For the ES: Psi_010 = ', psi_010.simplify().doit())\n",
    "display('For the ES: Psi_001 = ', psi_001.simplify().doit())"
   ]
  },
  {
   "cell_type": "markdown",
   "id": "cc3162b3-6b84-4be3-a69c-e501f7c51731",
   "metadata": {
    "jp-MarkdownHeadingCollapsed": true,
    "tags": []
   },
   "source": [
    "### __3.9__ _P&A_\n",
    "3D h.o., the potential energy for a particle is $V(x,y,z)= (1/2) k_x x^2 + (1/2) k_y y^2 + (1/2) k_z z^2 $. \n",
    "1) Determine $\\mathrm{E}_v = f(v_x)$ \n",
    "1) Determine Energies and degeneracies for the 4 lower-energy states\n",
    "2) Determine $\\mathrm{\\Psi}_{EcxS}$, eigenfunction for the 1st ExcState"
   ]
  },
  {
   "cell_type": "markdown",
   "id": "caad766b-718b-4de8-96f0-289b69608104",
   "metadata": {},
   "source": [
    "1) $E_{v_i} = h\\nu_i(1/2 + v_i)$ with $\\nu_i= \\frac{1}{2\\pi} \\sqrt{\\frac{k_i}{m}}$. Hence:\n",
    "$$E_{v_x} = h\\nu_x(1/2 + v_x) \\space with \\space \\nu_x= \\frac{1}{2\\pi} \\sqrt{\\frac{k_x}{m}}$$\n",
    "$$E_{v_y} = h\\nu_y(1/2 + v_y) \\space with \\space \\nu_y= \\frac{1}{2\\pi} \\sqrt{\\frac{k_y}{m}} \\rightarrow \\nu_y(k_y=4k_x) = \\frac{1}{2\\pi} \\sqrt{\\frac{4k_x}{m}} = 2\\nu_x = \\nu_y(\\nu_x) $$\n",
    "$$E_{v_z} = h\\nu_y(1/2 + v_z) \\space with \\space \\nu_z= \\frac{1}{2\\pi} \\sqrt{\\frac{k_z}{m}} \\rightarrow \\nu_z(k_z=9k_x) = \\frac{1}{2\\pi} \\sqrt{\\frac{9k_x}{m}} = 3\\nu_x = \\nu_z(\\nu_x) $$\n",
    "$$E_v^{3D} = E_x + E_y + E_z = h\\nu_x(1/2 + v_x) + h2\\nu_x (1/2 + v_y) + h3\\nu_x (1/2 + v_z)   \n",
    "= h\\nu_x(1/2 + v_x) + h\\nu_x (1 + 2v_y) + h\\nu_x (3/2 + 3v_z) $$ \n",
    "$$E_v^{3D} = h\\nu_x (3+v_x+2v_y+3v_z)$$"
   ]
  },
  {
   "cell_type": "markdown",
   "id": "743f0697-2dfc-4b1f-9ce8-3a9b7efbda18",
   "metadata": {},
   "source": [
    "2)   \n",
    "1st lower-energy state: $E_{000} = 3h\\nu_x$, $deg=1$  \n",
    "2nd lower-energy state: $E_{100} = (3+1)h\\nu_x = 4h\\nu_x$, $deg=1$  \n",
    "3rd lower-energy state: $E_{010} = (3+2(1))h\\nu_x = E_{200} =(3+1(2)) = 5h\\nu_x$, $deg=2$  \n",
    "4th lower-energy state: $E_{001} = (3+3(1))h\\nu_x = E_{300} =(3+1(3)) = E_{110} =(3+1(1)+2(1)) =  6h\\nu_x$, $deg=3$  "
   ]
  },
  {
   "cell_type": "markdown",
   "id": "8ba726ae-88f4-485e-8ad9-c6aac784c307",
   "metadata": {},
   "source": [
    "3)  $$ \\Phi_{100} = \\left( \\frac{(24*\\alpha_x^5}{\\pi^3} \\right) ^{(1/4)} x e^{-\\alpha_x(x^2+2y^2+3z^3)/2} $$"
   ]
  },
  {
   "cell_type": "markdown",
   "id": "6474d19f-3ed5-49c3-919e-067aef2c4d31",
   "metadata": {
    "jp-MarkdownHeadingCollapsed": true,
    "tags": []
   },
   "source": [
    "### __3.1__  _Var.Princ._  \n",
    "if $\\phi_0^{oh}$ is unknown for the 1D-ho, use a trial function $\\tilde\\phi = N e^{-cx^2}$ to optimize the parameter c and obtain upper-bound to energy approximation "
   ]
  },
  {
   "cell_type": "markdown",
   "id": "0470f7ce-df09-4177-aeea-c45ecc0e3496",
   "metadata": {
    "tags": []
   },
   "source": [
    "###### 1) Normalize variational wf : $$ < \\tilde \\phi |\\tilde \\phi> - 1 = 0 = \\int_{-\\infty}^{\\infty} \\left[ \\left( Ne^{-c x^2} \\right)^*Ne^{-c x^2} \\right] dx - 1 $$"
   ]
  },
  {
   "cell_type": "code",
   "execution_count": 5,
   "id": "53e84ed0-8af7-4e1b-a9fb-0621a536de1d",
   "metadata": {
    "tags": []
   },
   "outputs": [
    {
     "data": {
      "text/plain": [
       "'0='"
      ]
     },
     "metadata": {},
     "output_type": "display_data"
    },
    {
     "data": {
      "text/latex": [
       "$\\displaystyle \\frac{\\sqrt{2} \\sqrt{\\pi} N^{2}}{2 \\sqrt{c}} - 1$"
      ],
      "text/plain": [
       "sqrt(2)*sqrt(pi)*N**2/(2*sqrt(c)) - 1"
      ]
     },
     "metadata": {},
     "output_type": "display_data"
    },
    {
     "data": {
      "text/plain": [
       "'N='"
      ]
     },
     "metadata": {},
     "output_type": "display_data"
    },
    {
     "data": {
      "text/latex": [
       "$\\displaystyle \\frac{\\sqrt[4]{2} \\sqrt[4]{c}}{\\sqrt[4]{\\pi}}$"
      ],
      "text/plain": [
       "2**(1/4)*c**(1/4)/pi**(1/4)"
      ]
     },
     "metadata": {},
     "output_type": "display_data"
    }
   ],
   "source": [
    "N, c, x = smp.symbols('N c x', real=True, positive=True)\n",
    "display('0=', smp.integrate(N*smp.exp(-c*x**2)*N*smp.exp(-c*x**2), (x, -smp.oo, smp.oo))- 1)\n",
    "display('N=', smp.solve(smp.integrate(N*smp.exp(-c*x**2)*N*smp.exp(-c*x**2), (x, -smp.oo, smp.oo))- 1, N)[0])"
   ]
  },
  {
   "cell_type": "markdown",
   "id": "5cf9201d-c839-417e-b7d8-f835c2994003",
   "metadata": {
    "tags": []
   },
   "source": [
    "###### 2) $$ |\\mathcal{\\hat H^{oh}_{1D}} \\tilde \\phi> = \n",
    "\\left( -\\frac{\\hbar^2}{2m}\\frac{d^2}{dx^2} - k x^2  \\right)  Ne^{-c x^2} = \n",
    "-\\frac{1}{2}\\tilde\\phi ''(x) + \\frac{1}{2} k x^2\\tilde\\phi (x) \\newline\n",
    "\\mathcal{E} = < \\tilde \\phi |\\mathcal{\\hat H^{oh}_{1D}} \\tilde \\phi> =  \\int_{-\\infty}^{\\infty} \\left[ \\left( Ne^{-c x^2} \\right)^* \\left( -\\frac{\\hbar^2}{2m}\\tilde\\phi ''(x) + \\frac{1}{2} k x^2\\tilde\\phi (x) \\right) \\right] =  \\int_{-\\infty}^{\\infty} \\left[ \\left( Ne^{-c x^2} \\right)^* \\left( -\\frac{\\hbar^2}{2m}\\tilde\\phi ''(x) + \\frac{1}{2} \\frac{\\alpha^2\\hbar^2}{m} x^2\\tilde\\phi (x) \\right) \\right]  dx$$\n",
    "since $\\alpha= \\frac{\\sqrt{km}}{\\hbar}$"
   ]
  },
  {
   "cell_type": "code",
   "execution_count": 6,
   "id": "4c151a6f-96cd-4b1b-b702-9f4788ae236c",
   "metadata": {
    "tags": []
   },
   "outputs": [
    {
     "data": {
      "text/latex": [
       "$\\displaystyle \\frac{\\hbar^{2} \\left(\\alpha^{2} + 4 c^{2}\\right)}{8 c m}$"
      ],
      "text/plain": [
       "hbar**2*(alpha**2 + 4*c**2)/(8*c*m)"
      ]
     },
     "execution_count": 6,
     "metadata": {},
     "output_type": "execute_result"
    }
   ],
   "source": [
    "c, x, hbar, m, a= smp.symbols('c x hbar m alpha', positive=True)\n",
    "N= (2*c/smp.pi)**smp.Rational(1,4)\n",
    "phi = N*smp.exp(-c*x**2)\n",
    "d2_dphi2 = smp.diff(phi,x,x)\n",
    "Variat_Integral= smp.integrate(phi*(-hbar**2/(2*m)*d2_dphi2 + ((a**2*hbar**2)/(2*m))*x**2*phi), (x,-smp.oo,smp.oo)).simplify()\n",
    "Variat_Integral"
   ]
  },
  {
   "cell_type": "markdown",
   "id": "615e9b6a-d368-451e-a3ce-95991ff44a16",
   "metadata": {
    "tags": []
   },
   "source": [
    "###### 3) $$ \\frac{d \\mathcal{E}}{dc} = 0$$"
   ]
  },
  {
   "cell_type": "code",
   "execution_count": 7,
   "id": "7a0327e9-1e39-4d2a-b255-080346c714ba",
   "metadata": {
    "tags": []
   },
   "outputs": [
    {
     "data": {
      "text/plain": [
       "'from dE/dc=0 and solving for c; '"
      ]
     },
     "metadata": {},
     "output_type": "display_data"
    },
    {
     "data": {
      "text/plain": [
       "[{alpha: 2*c}]"
      ]
     },
     "metadata": {},
     "output_type": "display_data"
    },
    {
     "data": {
      "text/plain": [
       "'so c=alpha/2'"
      ]
     },
     "metadata": {},
     "output_type": "display_data"
    },
    {
     "data": {
      "text/plain": [
       "'the approximation to the energy is'"
      ]
     },
     "metadata": {},
     "output_type": "display_data"
    },
    {
     "data": {
      "text/latex": [
       "$\\displaystyle \\frac{\\alpha \\hbar^{2}}{2 m}$"
      ],
      "text/plain": [
       "alpha*hbar**2/(2*m)"
      ]
     },
     "metadata": {},
     "output_type": "display_data"
    }
   ],
   "source": [
    "display('from dE/dc=0 and solving for c; ',smp.solve(smp.diff(smp.integrate(phi*(-hbar**2/(2*m)*d2_dphi2 + ((a**2*hbar**2)/(2*m))*x**2*phi), (x,-smp.oo,smp.oo)).simplify(), c)))\n",
    "display('so c=alpha/2')\n",
    "display('the approximation to the energy is', Variat_Integral.subs({c:a/2}))"
   ]
  },
  {
   "cell_type": "markdown",
   "id": "20f95f5c-8e6f-4c83-9a73-598761e1d158",
   "metadata": {
    "tags": []
   },
   "source": [
    "### __3.3:__  _Lin. Var. Problem_\n",
    "Use a LC of the ground and 1 excited state of the harmonic oscillator $\\phi_0^{oh}, \\phi_1^{oh}$ as a trial variational function to a 1D anharmonic oscillator with potential $$ \\hat V(x) = \\frac{1}{2} k x^2 + \\frac{\\hbar^2\\alpha^{5/2}}{6m}x^3$$  \n",
    "to approximate the optimized variational wf and the upper-bound to the energy for the GS and ExcS"
   ]
  },
  {
   "cell_type": "code",
   "execution_count": null,
   "id": "826413a4-1d62-4580-a8cd-b73213820d1a",
   "metadata": {
    "jp-MarkdownHeadingCollapsed": true,
    "tags": []
   },
   "outputs": [],
   "source": []
  },
  {
   "cell_type": "markdown",
   "id": "e8c1c1ee-3e05-40aa-accb-c6c23560f7f9",
   "metadata": {
    "jp-MarkdownHeadingCollapsed": true,
    "tags": []
   },
   "source": [
    "## __3.20__ _P&A_: ___Theory-related question;   derivated properties of the separation of the global wavefunction in spherical coordinates into the radial function and the spherical harmonics as $$\\Psi_{n,l,m} (r,\\theta,\\phi)= R_{n,l}(r)\\mathcal{Y}(\\theta,\\phi)$$___\n",
    "For a particle with mass $m$ and movement restricted to a sphere with $a$ radius, obtain the eigenfunctions, energies and degeneration."
   ]
  },
  {
   "cell_type": "markdown",
   "id": "e8b365ad-3aea-4766-861c-c448d80c11e7",
   "metadata": {},
   "source": [
    "After separating a 2-body problem into the external(com) and interior (reduced mass $\\mu$) parts, we know (as demonstrated on ap.QFIII-extra) that:\n",
    "$$\\hat{\\mathcal{H}}_{int}(x,y,z) = -\\frac{\\hbar^2}{2\\mu}\\nabla^2(x,y,z) + V(\\sqrt{x^2+y^2+z^2}) \\rightarrow \\hat{\\mathcal{H}}_{int}(r,\\theta,\\phi) = -\\frac{\\hbar^2}{2\\mu}\\nabla^2(r,\\theta,\\phi) + V(r) $$  \n",
    "with $\\nabla^2(r,\\theta,\\phi) = \\frac{d^2}{dr^2} + \\frac{2}{r}\\frac{d}{dr} + \\frac{1}{r^2} \\left( \\frac{d^2}{d\\theta^2}+ \\frac{cos(\\theta)}{sin(\\theta)} \\frac{d}{d\\theta} + \\frac{1}{sin^2(\\theta)} \\frac{d^2}{d\\phi^2} \\right)$;  \n",
    "$$\\hat{\\mathcal{H}}_{int}(r,\\theta,\\phi) = -\\frac{\\hbar^2}{2\\mu} \\left( \\frac{d^2}{dr^2} + \\frac{2}{r}\\frac{d}{dr} \\right) + \\frac{1}{2\\mu r^2 } \\left[ -\\hbar^2 \\left( \\frac{d^2}{d\\theta^2}+ \\frac{cos(\\theta)}{sin(\\theta)} \\frac{d}{d\\theta} + \\frac{1}{sin^2(\\theta)} \\frac{d^2}{d\\phi^2}  \\right) \\right] + V(r) = -\\frac{\\hbar^2}{2\\mu} \\left( \\frac{d^2}{dr^2} + \\frac{2}{r}\\frac{d}{dr} \\right) + \\frac{1}{2\\mu r^2 }\\hat{\\mathcal{L}^2} +V(r)$$\n",
    "Since we note $\\hat{\\mathcal{L}^2} \\neq \\mathcal{f}(r)$, $\\rightarrow \\left[ \\hat{\\mathcal{H}}_{int},\\hat{\\mathcal{L}^2} \\right]=0$ $\\rightarrow \\Psi_{n,l,m} (r,\\theta,\\phi)= R_{n,l}(r)\\mathcal{Y}(\\theta,\\phi)$, where $R_{n,l}(r)$ is the Radial part and $\\mathcal{Y}(\\theta,\\phi)$ the spherical harmonics, which are functions of the $\\hat{\\mathcal{L}^2}, \\hat{\\mathcal{L}_z}$ operators:\n",
    "$$\\hat{\\mathcal{L}^2}\\mathcal{Y}(\\theta,\\phi) = l(l+1)\\hbar^2 \\space; \\space l=0,1,2,...$$\n",
    "$$\\hat{\\mathcal{L}_z}\\mathcal{Y}(\\theta,\\phi) = m_l\\hbar \\space; \\space m_l=-l, -l+1, ..., l-1, l$$\n",
    "Advataging from the $\\frac{\\hat{\\mathcal{L}^2}}{r^2}$ relation that enables the coupling of the radial and angular parts of the wavefunction, it is possible to write $\\hat{\\mathcal{H}}_{int}\\Psi_{n,l,m} (r,\\theta,\\phi) = \\mathcal{E}\\Psi_{n,l,m} (r,\\theta,\\phi)$ as:  \n",
    "$$ -\\frac{\\hbar^2}{2\\mu} \\left( \\frac{d^2 R(r)}{dr^2} + \\frac{2}{r}\\frac{d R(r)}{dr} \\right) + \\left(\\frac{l(l+1)\\hbar^2}{2\\mu r^2 } + V(r) \\right)R(r) = \\mathcal{E}R(r) $$\n",
    "\n",
    "__Answwering to the question,__ for a fixed length all $dr$ derivatives goes to zero and hence, only the spherical harmonics contribute to the energy by an amount of $\\frac{l(l+1)\\hbar^2}{2m a^2 }$ with a $deg=2l+1$"
   ]
  },
  {
   "cell_type": "markdown",
   "id": "067a8580-f156-409e-bf5b-47f435220a5e",
   "metadata": {
    "tags": []
   },
   "source": [
    "## Hidrogenoid atoms with $\\hat V_{ext}=0$"
   ]
  },
  {
   "cell_type": "markdown",
   "id": "9a3f895e-88c0-4c2a-860f-d3bdc86344d2",
   "metadata": {},
   "source": [
    "$$ \\phi_{1s}^{SI} = \\sqrt{\\frac{Z^3}{\\pi a_0^3}} e^{-Zr/a_0} \\rightarrow u.a. \\rightarrow \\phi_{1s}=\\sqrt{\\frac{Z^3}{\\pi}} e^{-Zr} $$\n",
    "$$ \\hat L_z = -i\\hbar \\frac{d}{d\\omega}$$"
   ]
  },
  {
   "cell_type": "markdown",
   "id": "50a5b927-daab-4132-96c1-a8bbf250e963",
   "metadata": {
    "jp-MarkdownHeadingCollapsed": true,
    "tags": []
   },
   "source": [
    "### __2.21&2.27__ _\"P&A\"_  \n",
    "Show that $\\hat L_z$ is an eigenfunction of this two functions with different eigenvalues $$\\psi_{2 p_{\\pm1}} = \\sqrt{\\frac{1}{64\\pi\\alpha^5}} r e^{-r/2a} sin(\\theta) e^{\\pm i\\omega} $$   \n",
    "and that is not an eigenfunction of this $2p_x$ orbital as a LCAO of the previous\n",
    "$$\\psi_{2p_x} = {2}^{-1/2} \\left(\\psi_{2p_{1}} + \\psi_{2p_{-1}}\\right)  $$ "
   ]
  },
  {
   "cell_type": "code",
   "execution_count": 8,
   "id": "0cc23f6d-dfea-44c8-8f78-1dd3c8113568",
   "metadata": {
    "tags": []
   },
   "outputs": [
    {
     "data": {
      "text/plain": [
       "'psi_2p1 is:'"
      ]
     },
     "metadata": {},
     "output_type": "display_data"
    },
    {
     "data": {
      "text/latex": [
       "$\\displaystyle \\frac{r e^{i \\omega} e^{- \\frac{r}{2 a}} \\sin{\\left(\\theta \\right)}}{8 \\pi^{\\frac{5}{2}}}$"
      ],
      "text/plain": [
       "r*exp(I*omega)*exp(-r/(2*a))*sin(theta)/(8*pi**(5/2))"
      ]
     },
     "metadata": {},
     "output_type": "display_data"
    },
    {
     "data": {
      "text/plain": [
       "'Lz*psi_2p1 is:'"
      ]
     },
     "metadata": {},
     "output_type": "display_data"
    },
    {
     "data": {
      "text/latex": [
       "$\\displaystyle \\frac{\\hbar r^{2} e^{2 i \\omega} e^{- \\frac{r}{a}} \\sin^{2}{\\left(\\theta \\right)}}{64 \\pi^{5}}$"
      ],
      "text/plain": [
       "hbar*r**2*exp(2*I*omega)*exp(-r/a)*sin(theta)**2/(64*pi**5)"
      ]
     },
     "metadata": {},
     "output_type": "display_data"
    },
    {
     "data": {
      "text/plain": [
       "'Hence, eigval is. hbar'"
      ]
     },
     "metadata": {},
     "output_type": "display_data"
    },
    {
     "data": {
      "text/plain": [
       "''"
      ]
     },
     "metadata": {},
     "output_type": "display_data"
    },
    {
     "data": {
      "text/plain": [
       "'psi_2p-1 is:'"
      ]
     },
     "metadata": {},
     "output_type": "display_data"
    },
    {
     "data": {
      "text/latex": [
       "$\\displaystyle \\frac{r e^{- i \\omega} e^{- \\frac{r}{2 a}} \\sin{\\left(\\theta \\right)}}{8 \\pi^{\\frac{5}{2}}}$"
      ],
      "text/plain": [
       "r*exp(-I*omega)*exp(-r/(2*a))*sin(theta)/(8*pi**(5/2))"
      ]
     },
     "metadata": {},
     "output_type": "display_data"
    },
    {
     "data": {
      "text/plain": [
       "'Lz*psi_2p-1 is:'"
      ]
     },
     "metadata": {},
     "output_type": "display_data"
    },
    {
     "data": {
      "text/latex": [
       "$\\displaystyle - \\frac{\\hbar r^{2} e^{- 2 i \\omega} e^{- \\frac{r}{a}} \\sin^{2}{\\left(\\theta \\right)}}{64 \\pi^{5}}$"
      ],
      "text/plain": [
       "-hbar*r**2*exp(-2*I*omega)*exp(-r/a)*sin(theta)**2/(64*pi**5)"
      ]
     },
     "metadata": {},
     "output_type": "display_data"
    },
    {
     "data": {
      "text/plain": [
       "'Hence, eigval is. -hbar'"
      ]
     },
     "metadata": {},
     "output_type": "display_data"
    },
    {
     "data": {
      "text/plain": [
       "''"
      ]
     },
     "metadata": {},
     "output_type": "display_data"
    },
    {
     "data": {
      "text/plain": [
       "'psi_2px is:'"
      ]
     },
     "metadata": {},
     "output_type": "display_data"
    },
    {
     "data": {
      "text/latex": [
       "$\\displaystyle \\frac{\\sqrt{2} \\left(\\frac{r e^{i \\omega} e^{- \\frac{r}{2 a}} \\sin{\\left(\\theta \\right)}}{8 \\pi^{\\frac{5}{2}}} + \\frac{r e^{- i \\omega} e^{- \\frac{r}{2 a}} \\sin{\\left(\\theta \\right)}}{8 \\pi^{\\frac{5}{2}}}\\right)}{2}$"
      ],
      "text/plain": [
       "sqrt(2)*(r*exp(I*omega)*exp(-r/(2*a))*sin(theta)/(8*pi**(5/2)) + r*exp(-I*omega)*exp(-r/(2*a))*sin(theta)/(8*pi**(5/2)))/2"
      ]
     },
     "metadata": {},
     "output_type": "display_data"
    },
    {
     "data": {
      "text/plain": [
       "'Lz*psi_2px is:'"
      ]
     },
     "metadata": {},
     "output_type": "display_data"
    },
    {
     "data": {
      "text/latex": [
       "$\\displaystyle - \\frac{i \\hbar \\left(\\frac{r e^{i \\omega} e^{- \\frac{r}{2 a}} \\sin{\\left(\\theta \\right)}}{8 \\pi^{\\frac{5}{2}}} + \\frac{r e^{- i \\omega} e^{- \\frac{r}{2 a}} \\sin{\\left(\\theta \\right)}}{8 \\pi^{\\frac{5}{2}}}\\right) \\left(\\frac{i r e^{i \\omega} e^{- \\frac{r}{2 a}} \\sin{\\left(\\theta \\right)}}{8 \\pi^{\\frac{5}{2}}} - \\frac{i r e^{- i \\omega} e^{- \\frac{r}{2 a}} \\sin{\\left(\\theta \\right)}}{8 \\pi^{\\frac{5}{2}}}\\right)}{2}$"
      ],
      "text/plain": [
       "-I*hbar*(r*exp(I*omega)*exp(-r/(2*a))*sin(theta)/(8*pi**(5/2)) + r*exp(-I*omega)*exp(-r/(2*a))*sin(theta)/(8*pi**(5/2)))*(I*r*exp(I*omega)*exp(-r/(2*a))*sin(theta)/(8*pi**(5/2)) - I*r*exp(-I*omega)*exp(-r/(2*a))*sin(theta)/(8*pi**(5/2)))/2"
      ]
     },
     "metadata": {},
     "output_type": "display_data"
    },
    {
     "data": {
      "text/plain": [
       "'which is not an eigenvalue of 2px since Lz*2px = -ihbar* 2px *(i*psi_2p1-i*psi_2p-1)'"
      ]
     },
     "metadata": {},
     "output_type": "display_data"
    },
    {
     "data": {
      "text/plain": [
       "'Hence, and after the Lz operator measure, the same 2 observales (h and -h) are the possible outcomes.'"
      ]
     },
     "metadata": {},
     "output_type": "display_data"
    },
    {
     "data": {
      "text/plain": [
       "'We can then assign a probability to each one and accordingly, we say the Lz operator is not weell-determined for the 2px orbital of the H atom'"
      ]
     },
     "metadata": {},
     "output_type": "display_data"
    }
   ],
   "source": [
    "a, r, theta, omega, h = smp.symbols('a r theta omega hbar')\n",
    "psi_2p1= smp.sqrt(1/(64*smp.pi**5))*r*smp.exp(-r/(2*a))*smp.sin(theta)*smp.exp(smp.I*omega)\n",
    "psi_2pminus1= smp.sqrt(1/(64*smp.pi**5))*r*smp.exp(-r/(2*a))*smp.sin(theta)*smp.exp(-smp.I*omega)\n",
    "Lz = smp.symbols('L_z', cls=smp.Function)\n",
    "Lz = -smp.I*h*smp.diff(psi_2p1, omega)\n",
    "display('psi_2p1 is:', psi_2p1, 'Lz*psi_2p1 is:', Lz*psi_2p1)\n",
    "display('Hence, eigval is. hbar')\n",
    "display('')\n",
    "Lz_min1 = -smp.I*h*smp.diff(psi_2pminus1, omega)\n",
    "display('psi_2p-1 is:', psi_2pminus1, 'Lz*psi_2p-1 is:', Lz_min1*psi_2pminus1)\n",
    "display('Hence, eigval is. -hbar')\n",
    "psi_2px = 1/smp.sqrt(2)* (psi_2p1+psi_2pminus1)\n",
    "display('')\n",
    "Lz_psix = -smp.I*h*smp.diff(psi_2px, omega)\n",
    "display('psi_2px is:', psi_2px, 'Lz*psi_2px is:', Lz_psix*psi_2px)\n",
    "display('which is not an eigenvalue of 2px since Lz*2px = -ihbar* 2px *(i*psi_2p1-i*psi_2p-1)')\n",
    "display('Hence, and after the Lz operator measure, the same 2 observales (h and -h) are the possible outcomes.')\n",
    "display('We can then assign a probability to each one and accordingly, we say the Lz operator is not weell-determined for the 2px orbital of the H atom')"
   ]
  },
  {
   "cell_type": "markdown",
   "id": "073a9e09-5e19-49c6-8272-67f995ebbb94",
   "metadata": {
    "tags": []
   },
   "source": [
    "### _4.11 P&A_\n",
    "H atom, compute probability $P(0 \\leq r < a)$ [%] for the 2s and anyone of the set of three 2p orbitals"
   ]
  },
  {
   "cell_type": "markdown",
   "id": "4ee53bea-fe20-4d8c-8ce4-cc9a08f6bc0f",
   "metadata": {},
   "source": []
  },
  {
   "cell_type": "code",
   "execution_count": null,
   "id": "ba5be83c-0403-4165-bed6-006c0a84e6ea",
   "metadata": {},
   "outputs": [],
   "source": []
  },
  {
   "cell_type": "markdown",
   "id": "417b2a2c-5259-4b9b-b65c-9d8e29ec258f",
   "metadata": {
    "jp-MarkdownHeadingCollapsed": true,
    "tags": []
   },
   "source": [
    "### Associated Laguerre polynomials"
   ]
  },
  {
   "cell_type": "markdown",
   "id": "da0c77d7-7c23-480d-afe5-4bfd6e55ba5e",
   "metadata": {},
   "source": [
    "The hydrogen wave function is given by\n",
    "\n",
    "$$\\psi_{nlm} = R_{nl}(r)Y_l^m(\\theta, \\phi) $$\n",
    "\n",
    "$$R_{nl}(r) =  \\sqrt{\\left(\\frac{2}{na}\\right)^3 \\frac{(n-l-1)!}{2n[(n+l)!]}} e^{-r/na} \\left(\\frac{2r}{na}\\right)^l \\left[L_{n-l-1}^{2l+1}(2r/na)\\right]$$\n",
    "\n",
    "The mean distance from the nucleus of the electron:\n",
    "$$ \\left<\\hat r\\right>_{\\psi_{nlm}} = \\left<\\psi_{nl}(r) | \\hat r | \\psi_{nl}(r) \\right> = \\left<R_{nl}(r) | \\hat r | R_{nl}(r) \\right> = \\left<\\hat r\\right>_{R_{nl}}$$\n",
    "$$ \\left<\\hat r\\right>_{R_{nl}} = \\int R_{nl}^* r R_{nl} r^2 dr = \\int r |R_{nl}(r)|^2 r^2 dr$$\n",
    "where the $r^2$ comes from $dV= r^2 dr$ and $|R_{nl}(r)|^2 $ is the radial probability density function: $ R_{nl}(r) \\geq 0 ; \\forall r \\geq 0$, and hence  \n",
    "\n",
    "$$\\left<\\hat r\\right>_{R_{nl}} = \\int R_{nl}^2(r) r^3 dr $$\n",
    "\n",
    "The standard deviation in the distance from the nucleus of the electron:\n",
    "\n",
    "$$\\sigma = \\Delta_{\\psi_{nlm}}r = \\sqrt{\\left<\\hat r^2\\right>_{R_{nl}} - \\left<\\hat r\\right>_{R_{nl}}^2} =  \\sqrt{\\left(\\int_{0}^{\\infty}R_{nl}^2 r^4 dr\\right) - \\left(\\int_{0}^{\\infty} R_{nl}^2 r^3 dr\\right)^2}$$"
   ]
  },
  {
   "cell_type": "code",
   "execution_count": 39,
   "id": "a1a69825-5810-4371-bc30-8abea044cf7d",
   "metadata": {},
   "outputs": [],
   "source": [
    "from sympy import assoc_laguerre\n",
    "#assoc_laguerre?"
   ]
  },
  {
   "cell_type": "code",
   "execution_count": 40,
   "id": "6256d1ea-b82f-4299-b320-5de83d06eb6a",
   "metadata": {},
   "outputs": [],
   "source": [
    "r, a = smp.symbols(' r a ', real=True, positive=True)\n",
    "n, l = smp.symbols(' n l ', integer=True, positive=True)"
   ]
  },
  {
   "cell_type": "markdown",
   "id": "61661aaa-a85b-45c3-acad-8fe38c128adf",
   "metadata": {},
   "source": [
    "Define $R_{nl}(r)$"
   ]
  },
  {
   "cell_type": "code",
   "execution_count": 62,
   "id": "340cfd8f-8b17-4c43-8a41-25c4051178d2",
   "metadata": {},
   "outputs": [
    {
     "data": {
      "text/latex": [
       "$\\displaystyle \\frac{2 \\left(\\frac{2 r}{a n}\\right)^{l} e^{- \\frac{r}{a n}} L_{- l + n - 1}^{\\left(2 l + 1\\right)}\\left(\\frac{2 r}{a n}\\right) \\sqrt{\\left(- l + n - 1\\right)!}}{a^{\\frac{3}{2}} n^{2} \\sqrt{\\left(l + n\\right)!}}$"
      ],
      "text/plain": [
       "2*(2*r/(a*n))**l*exp(-r/(a*n))*assoc_laguerre(-l + n - 1, 2*l + 1, 2*r/(a*n))*sqrt(factorial(-l + n - 1))/(a**(3/2)*n**2*sqrt(factorial(l + n)))"
      ]
     },
     "execution_count": 62,
     "metadata": {},
     "output_type": "execute_result"
    }
   ],
   "source": [
    "R = smp.sqrt((2/(n*a))**3* smp.factorial(n-l-1)/(2*n*(smp.factorial(n+l)))) \\\n",
    "    *smp.exp(-r/(n*a)) * (2*r/(n*a))**l * assoc_laguerre(n-l-1, 2*l+1, (2*r/(n*a)))\n",
    "R"
   ]
  },
  {
   "cell_type": "markdown",
   "id": "ea490812-5dcd-4315-8e89-cecb8484cffe",
   "metadata": {},
   "source": [
    "We can check to make sure this corresponds to the radial wavefunctions we expect. Lets see $R_{10}(r)$"
   ]
  },
  {
   "cell_type": "code",
   "execution_count": 63,
   "id": "e61b25c0-c8e2-49d4-912f-8dcc0d5628a3",
   "metadata": {},
   "outputs": [
    {
     "data": {
      "text/latex": [
       "$\\displaystyle \\frac{2 e^{- \\frac{r}{a}}}{a^{\\frac{3}{2}}}$"
      ],
      "text/plain": [
       "2*exp(-r/a)/a**(3/2)"
      ]
     },
     "execution_count": 63,
     "metadata": {},
     "output_type": "execute_result"
    }
   ],
   "source": [
    "R_10 = R.subs([(n,1),(l,0)])\n",
    "R_10"
   ]
  },
  {
   "cell_type": "markdown",
   "id": "8cf1adaa-c555-4d7d-b150-a207c71b9313",
   "metadata": {},
   "source": [
    "Function to compute $\\int_{0}^{\\infty} R_{nl}^2 r^k dr$ for particular values of $n$, $l$ and $k$"
   ]
  },
  {
   "cell_type": "code",
   "execution_count": 64,
   "id": "7c142032-8e47-4caa-9eb9-9f9a14c3ceae",
   "metadata": {},
   "outputs": [],
   "source": [
    "def integrate(n_val, l_val, k):\n",
    "    R_nl= R.subs([(n,n_val),(l,l_val)])\n",
    "    return smp.integrate(R_nl**2 * r**k, (r,0,smp.oo))"
   ]
  },
  {
   "cell_type": "markdown",
   "id": "07a9a168-6cd5-49a7-9c0f-591ff4ece277",
   "metadata": {},
   "source": [
    "Compute the mean radial distance of an electron in the state $\\psi_{100}$"
   ]
  },
  {
   "cell_type": "code",
   "execution_count": 65,
   "id": "07b74523-dbbb-4884-9b6e-bf5f919ea32d",
   "metadata": {},
   "outputs": [
    {
     "data": {
      "text/latex": [
       "$\\displaystyle \\frac{3 a}{2}$"
      ],
      "text/plain": [
       "3*a/2"
      ]
     },
     "execution_count": 65,
     "metadata": {},
     "output_type": "execute_result"
    }
   ],
   "source": [
    "integrate(1,0,3)"
   ]
  },
  {
   "cell_type": "markdown",
   "id": "15a50ccf-2643-4577-9bd4-4101de657863",
   "metadata": {},
   "source": [
    "Compute the spread $\\sigma$ in distances of the electron in state $\\psi_{100}$"
   ]
  },
  {
   "cell_type": "code",
   "execution_count": 66,
   "id": "218a7dc6-65c2-456e-9662-c85406cebfca",
   "metadata": {},
   "outputs": [
    {
     "data": {
      "text/latex": [
       "$\\displaystyle \\frac{\\sqrt{3} a}{2}$"
      ],
      "text/plain": [
       "sqrt(3)*a/2"
      ]
     },
     "execution_count": 66,
     "metadata": {},
     "output_type": "execute_result"
    }
   ],
   "source": [
    "smp.sqrt(integrate(n_val=1,l_val=0,k=4)-integrate(1,0,3)**2)"
   ]
  },
  {
   "cell_type": "markdown",
   "id": "bf63af56-c1cb-4864-a96a-20bf289f6cf7",
   "metadata": {},
   "source": [
    "Compute the mean radial distance of an electron in the state $\\psi_{420}$"
   ]
  },
  {
   "cell_type": "code",
   "execution_count": 67,
   "id": "3ee2fd5c-f69d-4882-bca8-62ce8411939b",
   "metadata": {},
   "outputs": [
    {
     "data": {
      "text/latex": [
       "$\\displaystyle 21 a$"
      ],
      "text/plain": [
       "21*a"
      ]
     },
     "execution_count": 67,
     "metadata": {},
     "output_type": "execute_result"
    }
   ],
   "source": [
    "integrate(4,2,3)"
   ]
  },
  {
   "cell_type": "code",
   "execution_count": 74,
   "id": "aed9732a-1eea-4c92-85a9-9546da29f751",
   "metadata": {},
   "outputs": [],
   "source": [
    "def mean_distance(n_val, l_val):\n",
    "    expr= integrate(n_val,l_val,3)\n",
    "    expr_f = smp.lambdify([a], expr)\n",
    "    return expr_f(a=1)"
   ]
  },
  {
   "cell_type": "code",
   "execution_count": 75,
   "id": "88f37540-400b-42c6-8c1e-316fad38c517",
   "metadata": {},
   "outputs": [],
   "source": [
    "ns= np.arange(1,10)\n",
    "ds = [mean_distance(ni, 0) for ni in ns]"
   ]
  },
  {
   "cell_type": "code",
   "execution_count": 77,
   "id": "78762ddf-61d7-4304-b22f-5f682be655ad",
   "metadata": {},
   "outputs": [
    {
     "data": {
      "text/plain": [
       "<matplotlib.collections.PathCollection at 0x1a9824edb90>"
      ]
     },
     "execution_count": 77,
     "metadata": {},
     "output_type": "execute_result"
    },
    {
     "data": {
      "image/png": "[encoded data removed]",
      "text/plain": [
       "<Figure size 640x480 with 1 Axes>"
      ]
     },
     "metadata": {},
     "output_type": "display_data"
    }
   ],
   "source": [
    "plt.scatter(ns,ds)"
   ]
  },
  {
   "cell_type": "markdown",
   "id": "609914ed-8354-4aa0-82db-eceb5c5d3245",
   "metadata": {
    "jp-MarkdownHeadingCollapsed": true,
    "tags": []
   },
   "source": [
    "### __2.7__\n",
    "H atom, $\\mu_e \\approx m_e$\n",
    "1) Probability density that e- is found in ($a_0, \\theta, \\phi$) point (_pag 31 P&A vol.I_ --> 2.9&2.10)\n",
    "2) Point with maximum probability of finding the electron (_ex 4.9 P&A_)\n",
    "3) Prob $ 0 \\leq r \\leq 2a_0$ & Probaility finding e- in a classically-forbidden region  (_ex 4.5 P&A_)\n",
    "5) Expected values of $<\\hat p_x>, <\\hat V>, <\\hat T>, <\\hat E>$  (_ex 4.12 P&A_)\n",
    "6) Mean square velocity of the electron in SI & compare to c light velocity (_ex 4.12 P&A_)"
   ]
  },
  {
   "cell_type": "markdown",
   "id": "83e8177c-29c5-4093-b679-546909d6882d",
   "metadata": {
    "tags": []
   },
   "source": [
    "##### Sol. 1)\n",
    "Probability Density Function (PDF)$$ PDF = |\\phi_{1s}^*\\phi_{1s}| = |\\phi_{1s}|^2$$"
   ]
  },
  {
   "cell_type": "code",
   "execution_count": 9,
   "id": "0cdd58dd-f939-4e5d-afa6-3dbcab2391a5",
   "metadata": {
    "jupyter": {
     "source_hidden": true
    },
    "tags": []
   },
   "outputs": [
    {
     "data": {
      "text/plain": [
       "'PDF(r, theta, phi) is:'"
      ]
     },
     "metadata": {},
     "output_type": "display_data"
    },
    {
     "data": {
      "text/latex": [
       "$\\displaystyle \\frac{Z^{3} e^{- \\frac{2 r}{a_{0}}}}{\\pi a_{0}^{3}}$"
      ],
      "text/plain": [
       "Z**3*exp(-2*r/a_0)/(pi*a_0**3)"
      ]
     },
     "metadata": {},
     "output_type": "display_data"
    },
    {
     "data": {
      "text/plain": [
       "'PDF(a_0, theta, phi) is: [m^-3]'"
      ]
     },
     "metadata": {},
     "output_type": "display_data"
    },
    {
     "data": {
      "text/latex": [
       "$\\displaystyle 2.91000776194868 \\cdot 10^{29} Z^{3}$"
      ],
      "text/plain": [
       "2.91000776194868e+29*Z**3"
      ]
     },
     "metadata": {},
     "output_type": "display_data"
    }
   ],
   "source": [
    "a, r, Z = smp.symbols('a_0 r Z', real=True, positive=True)\n",
    "psi_1s = smp.sqrt(Z**3 / (smp.pi * a**3)) * smp.exp(-r / a)\n",
    "PDF = smp.adjoint(psi_1s) * psi_1s\n",
    "display('PDF(r, theta, phi) is:', PDF)\n",
    "display('PDF(a_0, theta, phi) is: [m^-3]', PDF.subs({r: a, a: 5.29E-11}).evalf().subs(a, 5.29E-11))"
   ]
  },
  {
   "cell_type": "markdown",
   "id": "8bc0e535-7088-4ce9-a450-31e774aba9bf",
   "metadata": {
    "jp-MarkdownHeadingCollapsed": true,
    "tags": []
   },
   "source": [
    "##### Sol. 2) Radial Distribution function RDF: radial Prob. Density that particle in a given distance of the nuclei\n",
    "\"probabilitat (diferencial detrobar l electro en una capa\n",
    " esferica de gruix diferencial i radi r centrada al nucli\"\n",
    "$$\n",
    "p(r) = P(r \\leq r_0) = \\int_{r=0}^{r_0} \\int_{\\theta=0}^{\\pi} \\int_{\\phi=0}^{2\\pi} \\left| \\phi_{n, l, m}(r, \\theta, \\varphi) \\right|^2 r^2 \\sin\\theta \\, dr \\, d\\theta \\, d\\varphi. = 4\\pi \\int_{r=0}^{r_0}   \\left| \\phi_{n, l}(r) \\right|^2 r^2 dr $$\n",
    "\n",
    "\n"
   ]
  },
  {
   "cell_type": "code",
   "execution_count": 10,
   "id": "f64aec3b-9853-4632-9124-94069b0398da",
   "metadata": {
    "tags": []
   },
   "outputs": [
    {
     "data": {
      "text/plain": [
       "'RDF is:'"
      ]
     },
     "metadata": {},
     "output_type": "display_data"
    },
    {
     "data": {
      "text/latex": [
       "$\\displaystyle \\frac{4 Z^{3} r^{2} e^{- \\frac{2 r}{a_{0}}}}{a_{0}^{3}}$"
      ],
      "text/plain": [
       "4*Z**3*r**2*exp(-2*r/a_0)/a_0**3"
      ]
     },
     "metadata": {},
     "output_type": "display_data"
    },
    {
     "data": {
      "text/plain": [
       "'which is a maximum in r='"
      ]
     },
     "metadata": {},
     "output_type": "display_data"
    },
    {
     "data": {
      "text/plain": [
       "[a_0]"
      ]
     },
     "metadata": {},
     "output_type": "display_data"
    }
   ],
   "source": [
    "RDF=4*smp.pi*r**2*PDF\n",
    "sol= smp.solve(smp.diff(RDF,r),r)\n",
    "display('RDF is:', RDF, 'which is a maximum in r=', sol)"
   ]
  },
  {
   "cell_type": "markdown",
   "id": "b5efa094-dfa0-4d92-9c3a-6dfe2414e474",
   "metadata": {
    "jp-MarkdownHeadingCollapsed": true,
    "tags": []
   },
   "source": [
    "##### Sol. 3)Supposing conservation of energy at a given moment when E_kin=0 (particle without movement, which is strictly false but ok) and Etot=E_pot:\n",
    "$$ E_{tot} = - \\frac{Z e^2}{4\\pi\\epsilon_0 r} = -\\frac{Z^2 e^2}{2n^2 4\\pi\\epsilon_0 a_0} = E_n $$\n",
    "$$ E_1=  -\\frac{Z^2 e^2}{8\\pi\\epsilon_0 a_0} $$\n",
    "So that the classical allowed positions are: $$ r \\leq 2a/Z $$\n",
    "$$ E_{tot, 1s} (r=2a_0) =  -\\frac{Z^2 e^2}{8\\pi\\epsilon_0 a_0} = E_{H_{1s}} $$\n",
    " **Problem consist on calculating prob for classically allowed vs forbidden positions** "
   ]
  },
  {
   "cell_type": "code",
   "execution_count": 11,
   "id": "c93a4eef-f8e5-4b5f-8e0c-51026533ee56",
   "metadata": {
    "tags": []
   },
   "outputs": [
    {
     "data": {
      "text/plain": [
       "'Prob classically allowed position:'"
      ]
     },
     "metadata": {},
     "output_type": "display_data"
    },
    {
     "data": {
      "text/latex": [
       "$\\displaystyle 1 - \\frac{13}{e^{4}}$"
      ],
      "text/plain": [
       "1 - 13*exp(-4)"
      ]
     },
     "metadata": {},
     "output_type": "display_data"
    },
    {
     "data": {
      "text/plain": [
       "'='"
      ]
     },
     "metadata": {},
     "output_type": "display_data"
    },
    {
     "data": {
      "text/plain": [
       "'Prob classically allowed position:'"
      ]
     },
     "metadata": {},
     "output_type": "display_data"
    },
    {
     "data": {
      "text/latex": [
       "$\\displaystyle 0.761896694446456$"
      ],
      "text/plain": [
       "0.761896694446456"
      ]
     },
     "metadata": {},
     "output_type": "display_data"
    },
    {
     "data": {
      "text/plain": [
       "'Prob classically allowed position:'"
      ]
     },
     "metadata": {},
     "output_type": "display_data"
    },
    {
     "data": {
      "text/latex": [
       "$\\displaystyle \\frac{13}{e^{4}}$"
      ],
      "text/plain": [
       "13*exp(-4)"
      ]
     },
     "metadata": {},
     "output_type": "display_data"
    },
    {
     "data": {
      "text/plain": [
       "'='"
      ]
     },
     "metadata": {},
     "output_type": "display_data"
    },
    {
     "data": {
      "text/plain": [
       "'Prob classically allowed position:'"
      ]
     },
     "metadata": {},
     "output_type": "display_data"
    },
    {
     "data": {
      "text/latex": [
       "$\\displaystyle 0.238103305553544$"
      ],
      "text/plain": [
       "0.238103305553544"
      ]
     },
     "metadata": {},
     "output_type": "display_data"
    },
    {
     "data": {
      "text/plain": [
       "'Prob classically allowed position:'"
      ]
     },
     "metadata": {},
     "output_type": "display_data"
    },
    {
     "data": {
      "text/latex": [
       "$\\displaystyle \\frac{13}{e^{4}}$"
      ],
      "text/plain": [
       "13*exp(-4)"
      ]
     },
     "metadata": {},
     "output_type": "display_data"
    },
    {
     "data": {
      "text/plain": [
       "'='"
      ]
     },
     "metadata": {},
     "output_type": "display_data"
    },
    {
     "data": {
      "text/plain": [
       "'Prob classically allowed position:'"
      ]
     },
     "metadata": {},
     "output_type": "display_data"
    },
    {
     "data": {
      "text/latex": [
       "$\\displaystyle 0.238103305553544$"
      ],
      "text/plain": [
       "0.238103305553544"
      ]
     },
     "metadata": {},
     "output_type": "display_data"
    }
   ],
   "source": [
    "P_allow = smp.integrate(RDF, (r, 0, 2*a))\n",
    "display('Prob classically allowed position:', P_allow.subs({Z:1}), '=')\n",
    "display('Prob classically allowed position:', P_allow.subs({Z:1}).evalf())\n",
    "\n",
    "P_forbid = smp.integrate(RDF, (r, 2*a, smp.oo))\n",
    "display('Prob classically allowed position:', P_forbid.subs({Z:1}), '=')\n",
    "display('Prob classically allowed position:', P_forbid.subs({Z:1}).evalf())\n",
    "# or \n",
    "display('Prob classically allowed position:', 1 - P_allow.subs({Z:1}), '=')\n",
    "display('Prob classically allowed position:', 1 - P_allow.subs({Z:1}).evalf())"
   ]
  },
  {
   "cell_type": "markdown",
   "id": "7f2354e8-78a9-4f1c-a1eb-7fdc13906820",
   "metadata": {
    "tags": []
   },
   "source": [
    "##### Sol. 4)\n",
    "$$ 1^{st}: \\space <p_x>_{\\psi} = <\\psi |\\hat p_x| \\psi > = <\\psi |-\\frac{i}{\\hbar} \\frac{d}{dx}| \\psi >$$\n",
    "$$ 2^{nd}: \\space <V>_{\\psi} = <\\psi |\\hat V| \\psi > = <\\psi |-\\frac{1}{r} | \\psi >$$\n",
    "$$ 3^{rd}: \\space <E>_{\\psi_n} = <\\psi_n |\\hat H| \\psi_n > \\rightarrow \\mathrm{E}_n = - \\frac{Z^2 e^2}{2n^2 4\\pi \\epsilon_0 a_0}$$\n",
    "$$ 4^{th}: \\space <T>_{\\psi} = <\\psi |\\hat T| \\psi > = <\\psi |-\\frac{1}{2} \\nabla^2| \\psi >$$\n",
    "Since $\\nabla^2(r,\\theta,\\phi) =\\nabla^2(\\sqrt{x^2+y^2+z^2}, \\theta, \\phi)$ difficult differentiation and integration, from $E = T + V$ : $$<T>_{\\psi} = <E>_{\\psi} - <V>_{\\psi} $$"
   ]
  },
  {
   "cell_type": "code",
   "execution_count": 12,
   "id": "f9f88f5f-fbe0-4d0f-b234-d15c272c2d26",
   "metadata": {
    "jupyter": {
     "source_hidden": true
    },
    "tags": []
   },
   "outputs": [
    {
     "data": {
      "text/plain": [
       "' 1st expression equals'"
      ]
     },
     "metadata": {},
     "output_type": "display_data"
    },
    {
     "data": {
      "text/latex": [
       "$\\displaystyle \\frac{i x e^{- 2 \\sqrt{x^{2} + y^{2} + z^{2}}}}{\\pi \\hbar \\sqrt{x^{2} + y^{2} + z^{2}}}$"
      ],
      "text/plain": [
       "I*x*exp(-2*sqrt(x**2 + y**2 + z**2))/(pi*hbar*sqrt(x**2 + y**2 + z**2))"
      ]
     },
     "metadata": {},
     "output_type": "display_data"
    },
    {
     "data": {
      "text/plain": [
       "'integrating x over all space, <p_x> ='"
      ]
     },
     "metadata": {},
     "output_type": "display_data"
    },
    {
     "data": {
      "text/latex": [
       "$\\displaystyle 0$"
      ],
      "text/plain": [
       "0"
      ]
     },
     "metadata": {},
     "output_type": "display_data"
    }
   ],
   "source": [
    "x, y, z, hbar, theta, phi = smp.symbols('x y z hbar theta phi', real=True)\n",
    "a = smp.symbols('a', real=True, positive=True)\n",
    "\n",
    "r = smp.sqrt(x**2 + y**2 + z**2)\n",
    "\n",
    "psi_1s = smp.sqrt(1 / (smp.pi * a**3)) * smp.exp(-r / a)\n",
    "psi_1s = psi_1s.subs(a, 1)\n",
    "display(' 1st expression equals', psi_1s*-smp.I / hbar * smp.diff(psi_1s, x) )\n",
    "display('integrating x over all space, <p_x> =', smp.integrate(psi_1s*-smp.I / hbar * smp.diff(psi_1s, x), (x, -smp.oo, smp.oo)))"
   ]
  },
  {
   "cell_type": "code",
   "execution_count": 13,
   "id": "3407b2ec-078e-48fe-b781-64c9ccd9d030",
   "metadata": {
    "jupyter": {
     "source_hidden": true
    },
    "tags": []
   },
   "outputs": [
    {
     "data": {
      "text/plain": [
       "' 1st expression equals'"
      ]
     },
     "metadata": {},
     "output_type": "display_data"
    },
    {
     "data": {
      "text/latex": [
       "$\\displaystyle - \\frac{r e^{- 2 r} \\sin{\\left(\\theta \\right)}}{\\pi}$"
      ],
      "text/plain": [
       "-r*exp(-2*r)*sin(theta)/pi"
      ]
     },
     "metadata": {},
     "output_type": "display_data"
    },
    {
     "data": {
      "text/plain": [
       "'2nd expression is '"
      ]
     },
     "metadata": {},
     "output_type": "display_data"
    },
    {
     "data": {
      "text/latex": [
       "$\\displaystyle - 2 r e^{- 2 r} \\sin{\\left(\\theta \\right)}$"
      ],
      "text/plain": [
       "-2*r*exp(-2*r)*sin(theta)"
      ]
     },
     "metadata": {},
     "output_type": "display_data"
    },
    {
     "data": {
      "text/plain": [
       "'integrating over normalized spherical harmonics to get the RDF'"
      ]
     },
     "metadata": {},
     "output_type": "display_data"
    },
    {
     "data": {
      "text/latex": [
       "$\\displaystyle - 4 r e^{- 2 r}$"
      ],
      "text/plain": [
       "-4*r*exp(-2*r)"
      ]
     },
     "metadata": {},
     "output_type": "display_data"
    },
    {
     "data": {
      "text/plain": [
       "'and integrating over all distances r, V[ha]='"
      ]
     },
     "metadata": {},
     "output_type": "display_data"
    },
    {
     "data": {
      "text/latex": [
       "$\\displaystyle -1$"
      ],
      "text/plain": [
       "-1"
      ]
     },
     "metadata": {},
     "output_type": "display_data"
    },
    {
     "data": {
      "text/plain": [
       "'from the E_n eigenvalue, 3rd expression E_1 [ha]'"
      ]
     },
     "metadata": {},
     "output_type": "display_data"
    },
    {
     "data": {
      "text/latex": [
       "$\\displaystyle - \\frac{1}{2}$"
      ],
      "text/plain": [
       "-1/2"
      ]
     },
     "metadata": {},
     "output_type": "display_data"
    },
    {
     "data": {
      "text/plain": [
       "'from energy conservation, T[ha]='"
      ]
     },
     "metadata": {},
     "output_type": "display_data"
    },
    {
     "data": {
      "text/latex": [
       "$\\displaystyle \\frac{1}{2}$"
      ],
      "text/plain": [
       "1/2"
      ]
     },
     "metadata": {},
     "output_type": "display_data"
    }
   ],
   "source": [
    "r, E_1= smp.symbols('r E_1')\n",
    "psi_1s = smp.sqrt(1 / (smp.pi)) * smp.exp(-r)\n",
    "braket2 = psi_1s* -1/r * psi_1s * r**2 * smp.sin(theta)\n",
    "display(' 1st expression equals', braket2 )\n",
    "intphi = smp.integrate(braket2, (phi, 0, 2*smp.pi))\n",
    "intphi_theta = smp.integrate(intphi, (theta, 0, smp.pi))\n",
    "intall = smp.integrate(intphi_theta, (r, 0, smp.oo))\n",
    "display('2nd expression is ',intphi,'integrating over normalized spherical harmonics to get the RDF', intphi_theta)\n",
    "display('and integrating over all distances r, V[ha]=', intall)\n",
    "display('from the E_n eigenvalue, 3rd expression E_1 [ha]', -smp.Rational(1,2))\n",
    "display('from energy conservation, T[ha]=', -smp.Rational(1,2) - intall)"
   ]
  },
  {
   "cell_type": "markdown",
   "id": "1850460d-2493-4cef-8faa-dd3478c06a47",
   "metadata": {
    "tags": []
   },
   "source": [
    "##### Sol. 4)\n",
    "$$\\frac{1}{2} m_e v_e^2 = \\frac{1}{2} [ha]$$\n",
    "$$ v_e^2 = \\frac{1ha}{m_e} [ha]$$"
   ]
  },
  {
   "cell_type": "code",
   "execution_count": 14,
   "id": "598bb00b-c654-476b-9de2-bec5f0d64001",
   "metadata": {
    "jupyter": {
     "source_hidden": true
    },
    "tags": []
   },
   "outputs": [
    {
     "data": {
      "text/latex": [
       "$\\displaystyle \\sqrt{v_{e}}$"
      ],
      "text/plain": [
       "sqrt(v_e)"
      ]
     },
     "metadata": {},
     "output_type": "display_data"
    },
    {
     "data": {
      "text/plain": [
       "'m/s='"
      ]
     },
     "metadata": {},
     "output_type": "display_data"
    },
    {
     "data": {
      "text/latex": [
       "$\\displaystyle 2187726.11867095$"
      ],
      "text/plain": [
       "2187726.11867095"
      ]
     },
     "metadata": {},
     "output_type": "display_data"
    },
    {
     "data": {
      "text/plain": [
       "'=[%c]'"
      ]
     },
     "metadata": {},
     "output_type": "display_data"
    },
    {
     "data": {
      "text/latex": [
       "$\\displaystyle 0.729242039556984$"
      ],
      "text/plain": [
       "0.729242039556984"
      ]
     },
     "metadata": {},
     "output_type": "display_data"
    }
   ],
   "source": [
    "me, ha = smp.symbols('m_e ha')\n",
    "ve = smp.symbols('v_e', cls=smp.Function)\n",
    "me= 9.109E-31\n",
    "ha = 4.3597E-18\n",
    "display(smp.sqrt(smp.symbols('v_e')),'m/s=', smp.sqrt(ha/me), '=[%c]', 100*smp.sqrt(ha/me)/3E8 )"
   ]
  },
  {
   "cell_type": "markdown",
   "id": "d4af17dd-23a0-4f86-a3d6-9c7fdff83293",
   "metadata": {
    "tags": []
   },
   "source": [
    "### _2.9_\n"
   ]
  },
  {
   "cell_type": "code",
   "execution_count": null,
   "id": "3d0179ce-2043-4eeb-9c9a-ef4475a0b31a",
   "metadata": {},
   "outputs": [],
   "source": []
  },
  {
   "cell_type": "markdown",
   "id": "8ea3d7de-912e-45da-98bf-c262049ade18",
   "metadata": {
    "jp-MarkdownHeadingCollapsed": true,
    "tags": []
   },
   "source": [
    "### **1.19** Schrodinger eq. H-atom  in u.a. is \n",
    "$$ \\left( -\\frac{1}{2} \\nabla^2 - \\frac{1}{r}\\right) |\\Phi> = \\mathcal{E} |\\Phi> $$\n",
    "Use Variation method with trial function $ |\\tilde \\Phi(r)> = |\\tilde \\Phi> = N \\mathrm{e}^{-\\alpha r^2} $ to show that $ \\mathcal{E}_0 = -\\frac{4}{3\\pi}$ is upper bound to GS energy $ \\mathcal{E}_{exact} = -1/2$ ha  \n",
    "Tip:\n",
    "$ \\nabla^2 \\mathrm{f(r)} = r^{-2} \\frac{d}{dr} \\left( r^2 \\frac{d}{dr} \\right) \\mathrm{f(r)} $"
   ]
  },
  {
   "cell_type": "code",
   "execution_count": 9,
   "id": "93b5a7e8-f483-419f-9dac-751ee81ded82",
   "metadata": {
    "tags": []
   },
   "outputs": [
    {
     "data": {
      "image/png": "[encoded data removed]",
      "text/latex": [
       "$\\displaystyle Nabla=$"
      ],
      "text/plain": [
       "Nabla="
      ]
     },
     "metadata": {},
     "output_type": "display_data"
    },
    {
     "data": {
      "image/png": "[encoded data removed]",
      "text/latex": [
       "$\\displaystyle \\frac{r \\frac{d^{2}}{d r^{2}} f{\\left(r \\right)} + 2 \\frac{d}{d r} f{\\left(r \\right)}}{r}$"
      ],
      "text/plain": [
       "   2                    \n",
       "  d             d       \n",
       "r⋅───(f(r)) + 2⋅──(f(r))\n",
       "    2           dr      \n",
       "  dr                    \n",
       "────────────────────────\n",
       "           r            "
      ]
     },
     "metadata": {},
     "output_type": "display_data"
    }
   ],
   "source": [
    "E, nab = smp.symbols('\\mathcal{E} Nabla=')\n",
    "r ,a, N= smp.symbols('r alpha N  ', real=True, positive=True)\n",
    "f = smp.symbols('f', cls=smp.Function)\n",
    "display(nab, r**(-2)*smp.diff(r**2 * smp.diff(f(r),r),r).simplify())"
   ]
  },
  {
   "cell_type": "markdown",
   "id": "34f4030b-681c-49d8-8d6e-34374325e001",
   "metadata": {
    "tags": []
   },
   "source": [
    "###### 1) Normalize variational wf : $$ < \\tilde \\Phi |\\tilde \\Phi> - 1 = 0 = \\int_{-\\infty}^{\\infty} \\left[ \\left( Ne^{-\\alpha r^2} \\right)^*Ne^{-\\alpha r^2} \\right] r^2 dr - 1 $$"
   ]
  },
  {
   "cell_type": "code",
   "execution_count": 10,
   "id": "190924c6-a79b-4022-b1b5-fe284b36e6a0",
   "metadata": {
    "tags": []
   },
   "outputs": [
    {
     "data": {
      "image/png": "[encoded data removed]",
      "text/latex": [
       "$\\displaystyle \\frac{\\sqrt{2} \\sqrt{\\pi} N^{2}}{16 \\alpha^{\\frac{3}{2}}}$"
      ],
      "text/plain": [
       "       2\n",
       "√2⋅√π⋅N \n",
       "────────\n",
       "    3/2 \n",
       "16⋅α    "
      ]
     },
     "execution_count": 10,
     "metadata": {},
     "output_type": "execute_result"
    }
   ],
   "source": [
    "smp.integrate(N*smp.exp(-a*r**2)*N*smp.exp(-a*r**2)*r**2 , (r, 0, smp.oo))"
   ]
  },
  {
   "cell_type": "code",
   "execution_count": 11,
   "id": "5ab489ee-931d-4d24-80ee-a0e577e7b216",
   "metadata": {
    "tags": []
   },
   "outputs": [
    {
     "data": {
      "text/plain": [
       "'N^2='"
      ]
     },
     "metadata": {},
     "output_type": "display_data"
    },
    {
     "data": {
      "image/png": "[encoded data removed]",
      "text/latex": [
       "$\\displaystyle \\left[ \\frac{8 \\sqrt{2} \\alpha^{\\frac{3}{2}}}{\\sqrt{\\pi}}\\right]$"
      ],
      "text/plain": [
       "⎡      3/2⎤\n",
       "⎢8⋅√2⋅α   ⎥\n",
       "⎢─────────⎥\n",
       "⎣   √π    ⎦"
      ]
     },
     "metadata": {},
     "output_type": "display_data"
    }
   ],
   "source": [
    "Nsquare = smp.solve(smp.integrate(N*smp.exp(-a*r**2)*N*smp.exp(-a*r**2)*r**2 , (r, 0, +smp.oo)) - 1, N**2)\n",
    "display('N^2=', Nsquare)"
   ]
  },
  {
   "cell_type": "markdown",
   "id": "bd659be7-9dc2-4670-a287-0ed4c2c44b89",
   "metadata": {
    "tags": []
   },
   "source": [
    "###### 2) $$ \\mathcal{E} = < \\tilde \\Phi |\\mathcal{\\hat H} \\tilde \\Phi> =  \\int_{0}^{\\infty} \\left[ \\left( Ne^{-\\alpha r^2} \\right)^* \\left( -\\frac{1}{2} \\nabla^2 - \\frac{1}{r} \\right)  Ne^{-\\alpha r^2} \\right] r^2 dr =$$\n",
    "$$ \\int_{0}^{\\infty} \\left[ \\left( Ne^{-\\alpha r^2} \\right)^* \\left( -\\frac{1}{2} \\left(\\frac{d^2}{dr^2} + \\frac{2}{r}\\frac{d}{dr} \\right) - \\frac{1}{r} \\right) r^2 Ne^{-\\alpha r^2}  \\right] dr =  $$\n",
    "$$\n",
    "N^2 \\int_{0}^{\\infty} \\left( e^{-\\alpha r^2} \\right) \\left[ \\left( -\\frac{1}{2} \\frac{d^2}{dr^2} - \\frac{1}{r} \\frac{d}{dr} \\right) - \\frac{1}{r} \\right] \\left( r^2 e^{-\\alpha r^2} \\right) dr = \\mathcal{E}(\\alpha)\n",
    "$$\n"
   ]
  },
  {
   "cell_type": "code",
   "execution_count": 20,
   "id": "3cfe7a92-efe8-4e76-9eec-bc4fbbac39e9",
   "metadata": {
    "tags": []
   },
   "outputs": [
    {
     "data": {
      "image/png": "[encoded data removed]",
      "text/latex": [
       "$\\displaystyle - \\frac{2 \\sqrt{2} \\sqrt{\\alpha}}{\\sqrt{\\pi}} + \\frac{3 \\alpha}{2}$"
      ],
      "text/plain": [
       "  2⋅√2⋅√α   3⋅α\n",
       "- ─────── + ───\n",
       "    √π       2 "
      ]
     },
     "execution_count": 20,
     "metadata": {},
     "output_type": "execute_result"
    }
   ],
   "source": [
    "A = -smp.Rational(1,2)*smp.diff(smp.exp(-a*r**2), r, r)\n",
    "B = -1/r* smp.diff(smp.exp(-a*r**2), r)\n",
    "C = -1/r * smp.exp(-a*r**2)\n",
    "E = N**2 * smp.integrate(smp.exp(-a*r**2)*(A+B+C)*r**2, (r,0,smp.oo))\n",
    "E_a = E.simplify().subs([(N**2, 8*smp.sqrt(2)*a**smp.Rational(3,2)/smp.sqrt(smp.pi))]).simplify()\n",
    "E_a"
   ]
  },
  {
   "cell_type": "markdown",
   "id": "d179a77d-7f4f-4dbd-a76e-08ab461f3734",
   "metadata": {
    "tags": []
   },
   "source": [
    "###### 3) $$ \\frac{d \\mathcal{E}}{d\\alpha} = 0$$"
   ]
  },
  {
   "cell_type": "code",
   "execution_count": 21,
   "id": "60110677-7bcf-4677-ad6a-830ce81c2070",
   "metadata": {
    "tags": []
   },
   "outputs": [
    {
     "data": {
      "image/png": "[encoded data removed]",
      "text/latex": [
       "$\\displaystyle \\left[ \\frac{8}{9 \\pi}\\right]$"
      ],
      "text/plain": [
       "⎡ 8 ⎤\n",
       "⎢───⎥\n",
       "⎣9⋅π⎦"
      ]
     },
     "execution_count": 21,
     "metadata": {},
     "output_type": "execute_result"
    }
   ],
   "source": [
    "alfa_opt= smp.solve(smp.diff(E_a,a))\n",
    "alfa_opt"
   ]
  },
  {
   "cell_type": "code",
   "execution_count": 22,
   "id": "c2d0c393-d732-4c4f-a740-aa3d8c34636d",
   "metadata": {
    "tags": []
   },
   "outputs": [
    {
     "data": {
      "image/png": "[encoded data removed]",
      "text/latex": [
       "$\\displaystyle - \\frac{4}{3 \\pi}$"
      ],
      "text/plain": [
       "-4 \n",
       "───\n",
       "3⋅π"
      ]
     },
     "execution_count": 22,
     "metadata": {},
     "output_type": "execute_result"
    }
   ],
   "source": [
    "E_a.subs([(a, 8/(9*smp.pi))])"
   ]
  },
  {
   "cell_type": "code",
   "execution_count": 23,
   "id": "312be8a8-8667-4378-a455-2b2f319227f7",
   "metadata": {
    "tags": []
   },
   "outputs": [
    {
     "data": {
      "image/png": "[encoded data removed]",
      "text/latex": [
       "$\\displaystyle -0.424413181578388$"
      ],
      "text/plain": [
       "-0.424413181578388"
      ]
     },
     "execution_count": 23,
     "metadata": {},
     "output_type": "execute_result"
    }
   ],
   "source": [
    "E_a.subs([(a, 8/(9*smp.pi))]).evalf() "
   ]
  },
  {
   "cell_type": "code",
   "execution_count": 24,
   "id": "0220910a-21ca-4163-ba5b-da0cb17562f7",
   "metadata": {
    "tags": []
   },
   "outputs": [
    {
     "data": {
      "image/png": "[encoded data removed]",
      "text/plain": [
       "<Figure size 640x480 with 1 Axes>"
      ]
     },
     "metadata": {},
     "output_type": "display_data"
    },
    {
     "data": {
      "image/png": "[encoded data removed]",
      "text/latex": [
       "$\\displaystyle -0.424343886983957$"
      ],
      "text/plain": [
       "-0.4243438869839575"
      ]
     },
     "execution_count": 24,
     "metadata": {},
     "output_type": "execute_result"
    }
   ],
   "source": [
    "E_a_f = smp.lambdify([a], E_a)\n",
    "dE_da_f = smp.lambdify([a], smp.diff(E_a,a))\n",
    "import matplotlib.pyplot as plt\n",
    "import numpy as np\n",
    "a_f = np.linspace(0.1,3,100)\n",
    "plt.scatter(a_f, E_a_f(a_f), label='E=f(alpha)')\n",
    "plt.scatter(a_f, dE_da_f(a_f), label='dE/da')\n",
    "plt.legend()\n",
    "plt.show()\n",
    "np.min(E_a_f(a_f))"
   ]
  },
  {
   "cell_type": "code",
   "execution_count": null,
   "id": "be85ff38-51af-4f84-b1f4-f614df209525",
   "metadata": {},
   "outputs": [],
   "source": []
  },
  {
   "cell_type": "markdown",
   "id": "8bf0f756-8c3c-409b-a67f-79e056659d86",
   "metadata": {
    "jp-MarkdownHeadingCollapsed": true,
    "tags": []
   },
   "source": [
    "### __3.2:__  _Var. Princ._\n",
    "Use a trial function $\\tilde\\Phi = N r e^{(-cr)}$ and optimize the c parameter with respect to the energy.  \n",
    "Give the values of $c$ and the optimized energy (variational integral). "
   ]
  },
  {
   "cell_type": "markdown",
   "id": "b9e1815c-3d98-4480-aaa7-7f00cd392ad9",
   "metadata": {
    "tags": []
   },
   "source": [
    "###### 1) Normalize variational wf : $$ < \\tilde \\Phi |\\tilde \\Phi> - 1 = 0 = \\int_{-\\infty}^{\\infty} \\left[ \\left( Nre^{-c r} \\right)^*Nre^{-cr} \\right] r^2 sin\\theta dr d\\theta d\\phi -  1 $$"
   ]
  },
  {
   "cell_type": "code",
   "execution_count": 15,
   "id": "fdcd1f16-e637-43ef-b23b-caf2203ca558",
   "metadata": {},
   "outputs": [
    {
     "data": {
      "text/plain": [
       "'0='"
      ]
     },
     "metadata": {},
     "output_type": "display_data"
    },
    {
     "data": {
      "text/latex": [
       "$\\displaystyle \\frac{3 N^{2} \\sin{\\left(\\theta \\right)}}{4 c^{5}} - 1$"
      ],
      "text/plain": [
       "3*N**2*sin(theta)/(4*c**5) - 1"
      ]
     },
     "metadata": {},
     "output_type": "display_data"
    },
    {
     "data": {
      "text/plain": [
       "'N='"
      ]
     },
     "metadata": {},
     "output_type": "display_data"
    },
    {
     "data": {
      "text/latex": [
       "$\\displaystyle \\frac{\\sqrt{3} c^{\\frac{5}{2}}}{3 \\sqrt{\\pi}}$"
      ],
      "text/plain": [
       "sqrt(3)*c**(5/2)/(3*sqrt(pi))"
      ]
     },
     "metadata": {},
     "output_type": "display_data"
    }
   ],
   "source": [
    "N, c, r, theta, omega = smp.symbols('N c r theta omega', real=True, positive=True)\n",
    "display('0=', smp.integrate(N*r*smp.exp(-c*r)*N*r*smp.exp(-c*r)*r**2*smp.sin(theta), (r, 0, smp.oo))- 1)\n",
    "display('N=', smp.solve(smp.integrate(N*r*smp.exp(-c*r)*N*r*smp.exp(-c*r)*r**2*smp.sin(theta), (r, 0, smp.oo), (theta,0,smp.pi), (omega,0,2*smp.pi))- 1, N)[0].simplify())\n",
    "Norm= c**(5/2)/smp.sqrt((3*smp.pi))"
   ]
  },
  {
   "cell_type": "markdown",
   "id": "67b95d96-1b8f-4acc-b9e9-c100dbd9b186",
   "metadata": {},
   "source": [
    "###### 2) $$ |\\mathcal{\\hat H^{H_{atom}}_{u.a.}} \\tilde \\Psi> = \n",
    "\\left( -\\frac{1}{2}\\nabla^2 - \\frac{1}{r}  \\right)  Nre^{-cr} = \n",
    "-\\frac{1}{2}\\tilde\\Phi'' - \\frac{1}{r} \\tilde\\Phi \\newline \n",
    "with \\space N=\\frac{\\sqrt(3)c^{5/2}}{3\\sqrt(\\pi)} = \\frac{c^{5/2}}{\\sqrt{3\\pi}} \\space and \\space \\nabla^2 = \\Psi''+\\frac{2}{r}\\Psi'$$ \n",
    "$$\\mathcal{E} = < \\tilde \\Phi |\\mathcal{\\hat H^{H_{atom}}_{u.a.}} \\tilde \\Phi> =\n",
    "\\int_{0}^{\\infty}\\int_{0}^{\\theta=\\pi}\\int_{0}^{\\psi=2\\pi} \\left[ \\left( Nre^{-cr} \\right)^* \\left( -\\frac{1}{2}\\tilde\\Phi'' - \\frac{1}{r} \\tilde\\Phi \\right) \\right] r^2 sin(\\theta) dr d\\theta d\\phi$$"
   ]
  },
  {
   "cell_type": "code",
   "execution_count": 16,
   "id": "66f58a65-c334-4cc5-b369-428883b436f6",
   "metadata": {
    "tags": []
   },
   "outputs": [
    {
     "data": {
      "text/latex": [
       "$\\displaystyle \\frac{c^{1.0} \\left(1.0 c - 3\\right)}{6}$"
      ],
      "text/plain": [
       "c**1.0*(1.0*c - 3)/6"
      ]
     },
     "execution_count": 16,
     "metadata": {},
     "output_type": "execute_result"
    }
   ],
   "source": [
    "c, r, hbar, m, a, N= smp.symbols('c r hbar m alpha N', positive=True)\n",
    "phi = N*r*smp.exp(-c*r)\n",
    "d_dphi = smp.diff(phi,r)\n",
    "d2_dphi2 = smp.diff(d_dphi,r)\n",
    "Variat_Integral= smp.integrate(N*r*smp.exp(-c*r)*(-1/2*(d2_dphi2+2/r*d_dphi)-1/r*phi)*r**2*smp.sin(theta), (r,0,smp.oo), (theta,0,smp.pi), (omega,0,2*smp.pi)).simplify()\n",
    "E = Variat_Integral.subs(N,Norm)\n",
    "E"
   ]
  },
  {
   "cell_type": "markdown",
   "id": "708f3c38-2b6e-4040-8a91-613ec835c96f",
   "metadata": {
    "tags": []
   },
   "source": [
    "###### 3) $$ \\frac{d \\mathcal{E}}{dc} = 0$$"
   ]
  },
  {
   "cell_type": "code",
   "execution_count": 17,
   "id": "e843cd74-8ac4-4b1d-8166-294223d501b3",
   "metadata": {
    "tags": []
   },
   "outputs": [
    {
     "data": {
      "text/plain": [
       "'c_opt='"
      ]
     },
     "metadata": {},
     "output_type": "display_data"
    },
    {
     "data": {
      "text/plain": [
       "[3/2]"
      ]
     },
     "metadata": {},
     "output_type": "display_data"
    },
    {
     "data": {
      "text/plain": [
       "'E_opt='"
      ]
     },
     "metadata": {},
     "output_type": "display_data"
    },
    {
     "data": {
      "text/latex": [
       "$\\displaystyle -0.375$"
      ],
      "text/plain": [
       "-0.375000000000000"
      ]
     },
     "metadata": {},
     "output_type": "display_data"
    }
   ],
   "source": [
    "E = c**2/6 - c/2\n",
    "c_opt=smp.solve(smp.diff(E,c), c)\n",
    "E_opt= E.subs(c,3/2)\n",
    "display('c_opt=', c_opt, 'E_opt=', E_opt)"
   ]
  },
  {
   "cell_type": "code",
   "execution_count": 18,
   "id": "5a2cfd4c-85e1-4387-a657-562fb6b37505",
   "metadata": {
    "tags": []
   },
   "outputs": [
    {
     "data": {
      "text/plain": [
       "0.375"
      ]
     },
     "execution_count": 18,
     "metadata": {},
     "output_type": "execute_result"
    }
   ],
   "source": [
    "3/8"
   ]
  }
 ],
 "metadata": {
  "kernelspec": {
   "display_name": "Python 3 (ipykernel)",
   "language": "python",
   "name": "python3"
  },
  "language_info": {
   "codemirror_mode": {
    "name": "ipython",
    "version": 3
   },
   "file_extension": ".py",
   "mimetype": "text/x-python",
   "name": "python",
   "nbconvert_exporter": "python",
   "pygments_lexer": "ipython3",
   "version": "3.11.7"
  }
 },
 "nbformat": 4,
 "nbformat_minor": 5
}
